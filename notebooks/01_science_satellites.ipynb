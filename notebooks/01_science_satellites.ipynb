{
 "cells": [
  {
   "cell_type": "markdown",
   "metadata": {},
   "source": [
    "## License\n",
    "```\n",
    "Visualize scientific satellites orbits.\n",
    "Copyright (C) 2019+  Benjamin Winkel (bwinkel@mpifr.de)\n",
    "\n",
    "This program is free software: you can redistribute it and/or modify\n",
    "it under the terms of the GNU General Public License as published by\n",
    "the Free Software Foundation, either version 3 of the License, or\n",
    "(at your option) any later version.\n",
    "\n",
    "This program is distributed in the hope that it will be useful,\n",
    "but WITHOUT ANY WARRANTY; without even the implied warranty of\n",
    "MERCHANTABILITY or FITNESS FOR A PARTICULAR PURPOSE.  See the\n",
    "GNU General Public License for more details.\n",
    "\n",
    "You should have received a copy of the GNU General Public License\n",
    "along with this program.  If not, see <https://www.gnu.org/licenses/>.\n",
    "\n",
    "Note: parts of this software were adapted from Cees Bassa (ASTRON);\n",
    "      see https://github.com/cbassa/satellite_analysis\n",
    "```"
   ]
  },
  {
   "cell_type": "code",
   "execution_count": 1,
   "metadata": {},
   "outputs": [],
   "source": [
    "import numpy as np\n",
    "\n",
    "import matplotlib.pyplot as plt\n",
    "from mpl_toolkits.mplot3d import Axes3D\n",
    "import matplotlib\n",
    "# for animations, you may need to install \"ffmpeg\" and/or \"imagemagick\"\n",
    "from matplotlib import animation, rc\n",
    "\n",
    "import cysgp4\n",
    "\n",
    "rc('animation', html='html5')"
   ]
  },
  {
   "cell_type": "markdown",
   "metadata": {},
   "source": [
    "If you plan to make big movies (i.e., large file sizes), you may need to start Jupyter with the command line option ``--NotebookApp.iopub_data_rate_limit=1.0e10`` and do the following:"
   ]
  },
  {
   "cell_type": "code",
   "execution_count": 2,
   "metadata": {},
   "outputs": [],
   "source": [
    "# matplotlib.rcParams['animation.embed_limit'] = 2 ** 128"
   ]
  },
  {
   "cell_type": "code",
   "execution_count": 10,
   "metadata": {},
   "outputs": [],
   "source": [
    "science_tle_text = cysgp4.get_example_tles()\n",
    "my_tles = cysgp4.tles_from_text(science_tle_text)"
   ]
  },
  {
   "cell_type": "code",
   "execution_count": 4,
   "metadata": {},
   "outputs": [
    {
     "data": {
      "text/plain": [
       "([<PyTle: AKEBONO (EXOS-D)        >,\n",
       "  <PyTle: HST                     >,\n",
       "  <PyTle: POLAR                   >,\n",
       "  <PyTle: SWAS                    >,\n",
       "  <PyTle: ORSTED                  >,\n",
       "  <PyTle: CXO                     >,\n",
       "  <PyTle: XMM-NEWTON              >,\n",
       "  <PyTle: TERRA                   >,\n",
       "  <PyTle: CLUSTER II-FM7 (SAMBA)  >,\n",
       "  <PyTle: CLUSTER II-FM6 (SALSA)  >],\n",
       " 66)"
      ]
     },
     "execution_count": 4,
     "metadata": {},
     "output_type": "execute_result"
    }
   ],
   "source": [
    "my_tles[:10], len(my_tles)"
   ]
  },
  {
   "cell_type": "markdown",
   "metadata": {},
   "source": [
    "Alternatively, one could also fetch all active satellites from [Celestrack](http://celestrak.com):"
   ]
  },
  {
   "cell_type": "code",
   "execution_count": 5,
   "metadata": {},
   "outputs": [],
   "source": [
    "# import requests\n",
    "\n",
    "# ctrak_latest = requests.get('http://celestrak.com/NORAD/elements/active.txt')\n",
    "# active_tles = cysgp4.tles_from_text(ctrak_latest.text)"
   ]
  },
  {
   "cell_type": "markdown",
   "metadata": {},
   "source": [
    "To allow numpy broadcasting further below, we need to convert to an array:"
   ]
  },
  {
   "cell_type": "code",
   "execution_count": 11,
   "metadata": {},
   "outputs": [],
   "source": [
    "my_tles = np.array(my_tles)"
   ]
  },
  {
   "cell_type": "markdown",
   "metadata": {},
   "source": [
    "As the TLEs are quickly outdated (in which case, the orbit calculations would have large errorbars), we should base our visualization on a date and time, which is close to the epoch of the TLEs."
   ]
  },
  {
   "cell_type": "code",
   "execution_count": 12,
   "metadata": {},
   "outputs": [
    {
     "data": {
      "text/plain": [
       "(<PyDateTime: 2019-11-17 11:58:52.232160 UTC>, 58804.49921565)"
      ]
     },
     "execution_count": 12,
     "metadata": {},
     "output_type": "execute_result"
    }
   ],
   "source": [
    "epoch_dt = my_tles[0].epoch\n",
    "epoch_dt, epoch_dt.mjd"
   ]
  },
  {
   "cell_type": "markdown",
   "metadata": {},
   "source": [
    "We want to visualize the orbits for a short time frame of 10 minutes, in steps of 10 seconds (aka 60 frames)."
   ]
  },
  {
   "cell_type": "code",
   "execution_count": 14,
   "metadata": {},
   "outputs": [],
   "source": [
    "start_mjd = 58804.5\n",
    "td = np.arange(0, 600, 10) / 86400.  # 1 d in steps of 10 s\n",
    "mjds = start_mjd + td"
   ]
  },
  {
   "cell_type": "markdown",
   "metadata": {},
   "source": [
    "The final ingredient is one or more observer (for the topocentric coordinates), lets define two:"
   ]
  },
  {
   "cell_type": "code",
   "execution_count": 15,
   "metadata": {},
   "outputs": [],
   "source": [
    "# Effelsberg 100-m radio telescope\n",
    "effbg_observer = cysgp4.PyObserver(6.88375, 50.525, 0.366)\n",
    "# Parkes telescope (\"The Dish\")\n",
    "parkes_observer = cysgp4.PyObserver(148.25738, -32.9933, 414.8)\n",
    "observers = np.array([effbg_observer, parkes_observer])"
   ]
  },
  {
   "cell_type": "code",
   "execution_count": 16,
   "metadata": {},
   "outputs": [],
   "source": [
    "result = cysgp4.propagate_many(\n",
    "    mjds[np.newaxis, np.newaxis, :],\n",
    "    my_tles[:, np.newaxis, np.newaxis],\n",
    "    observers[np.newaxis, :, np.newaxis]\n",
    "    )"
   ]
  },
  {
   "cell_type": "markdown",
   "metadata": {},
   "source": [
    "``result`` is a Python dictionary, with the following entries:"
   ]
  },
  {
   "cell_type": "code",
   "execution_count": 17,
   "metadata": {},
   "outputs": [
    {
     "name": "stdout",
     "output_type": "stream",
     "text": [
      "['eci_pos', 'eci_vel', 'geo', 'topo']\n"
     ]
    }
   ],
   "source": [
    "print(list(result.keys()))"
   ]
  },
  {
   "cell_type": "markdown",
   "metadata": {},
   "source": [
    "Each entry is an array containing the coordinates of the frame (on the last axis). The broadcasted input arrays form the first axes of the output:"
   ]
  },
  {
   "cell_type": "code",
   "execution_count": 20,
   "metadata": {},
   "outputs": [
    {
     "data": {
      "text/plain": [
       "((66, 2, 60, 3), (66, 2, 60, 4))"
      ]
     },
     "execution_count": 20,
     "metadata": {},
     "output_type": "execute_result"
    }
   ],
   "source": [
    "eci_pos = result['eci_pos']\n",
    "topo_pos = result['topo']\n",
    "eci_pos.shape, topo_pos.shape"
   ]
  },
  {
   "cell_type": "markdown",
   "metadata": {},
   "source": [
    "Unpacking this is a bit ugly, because the coordinate tuples are in the last axis."
   ]
  },
  {
   "cell_type": "code",
   "execution_count": 29,
   "metadata": {},
   "outputs": [],
   "source": [
    "eci_pos_x, eci_pos_y, eci_pos_z = (eci_pos[..., i] for i in range(3))\n",
    "topo_pos_az, topo_pos_el, topo_pos_dist, _ = (topo_pos[..., i] for i in range(4))\n",
    "topo_pos_az = (topo_pos_az + 180.) % 360. - 180."
   ]
  },
  {
   "cell_type": "code",
   "execution_count": 34,
   "metadata": {},
   "outputs": [],
   "source": [
    "my_time = cysgp4.PyDateTime()\n",
    "my_time.mjd = mjds[0]\n",
    "plim1, plim2 = 8000, 46000\n",
    "\n",
    "fig = plt.figure(figsize=(12.8, 7.2))\n",
    "ax1 = fig.add_subplot(121, projection='3d')\n",
    "ax2 = fig.add_subplot(122, projection='3d')\n",
    "axes = [ax1, ax2]\n",
    "\n",
    "for ax, plim in [(ax1, plim1), (ax2, plim2)]:\n",
    "    ax.view_init(azim=60, elev=30)\n",
    "    ax.set_xlim((-plim, plim))\n",
    "    ax.set_ylim((-plim, plim))\n",
    "    ax.set_zlim((-plim, plim))\n",
    "    ax.set_aspect('equal')\n",
    "    ax.set_xlabel('x [km]')\n",
    "    ax.set_ylabel('y [km]')\n",
    "    ax.set_zlabel('z [km]')\n",
    "\n",
    "rads = np.sqrt(eci_pos_x[:, 0, 0] ** 2 + eci_pos_y[:, 0, 0] ** 2 + eci_pos_z[:, 0, 0] ** 2)\n",
    "# need a copy for clipping in each subplot\n",
    "eci_pos1 = np.array([eci_pos_x, eci_pos_y, eci_pos_z]).copy()\n",
    "eci_pos2 = np.array([eci_pos_x, eci_pos_y, eci_pos_z]).copy()\n",
    "\n",
    "m1 = (\n",
    "    np.all(np.abs(eci_pos1[0]) < plim1, axis=2) & \n",
    "    np.all(np.abs(eci_pos1[1]) < plim1, axis=2) & \n",
    "    np.all(np.abs(eci_pos1[2]) < plim1, axis=2)\n",
    "    )\n",
    "m2 = (\n",
    "    np.all(np.abs(eci_pos2[0]) < plim2, axis=2) & \n",
    "    np.all(np.abs(eci_pos2[1]) < plim2, axis=2) & \n",
    "    np.all(np.abs(eci_pos2[2]) < plim2, axis=2)\n",
    "    )\n",
    "eci_pos1 = eci_pos1[: ,m1].reshape(\n",
    "    (eci_pos1.shape[0], -1, eci_pos1.shape[2], eci_pos1.shape[3])\n",
    "    )\n",
    "\n",
    "eci_pos2 = eci_pos2[: ,m2].reshape(\n",
    "    (eci_pos2.shape[0], -1, eci_pos2.shape[2], eci_pos2.shape[3])\n",
    "    )\n",
    "rads1, rads2 = rads.copy(), rads.copy()\n",
    "rads1 = rads1[m1[:, 0]]\n",
    "rads2 = rads2[m2[:, 0]]\n",
    "\n",
    "\n",
    "all_points = [\n",
    "    ax.scatter(\n",
    "        ep[0, :, 0, 0], ep[1, :, 0, 0], ep[2, :, 0, 0],\n",
    "        c=rds, s=1, vmin=6400, vmax=plim, marker='o'\n",
    "        )\n",
    "    for ax, plim, ep, rds in [(ax1, plim1, eci_pos1, rads1), (ax2, plim2, eci_pos2, rads2)]\n",
    "    ]\n",
    "all_titles = [\n",
    "    ax.set_title('{:%y/%m/%d %H:%M:%S}'.format(my_time.datetime), loc='center', fontsize=20)\n",
    "    for ax in axes\n",
    "    ]\n",
    "\n",
    "def animate(i):\n",
    "    all_points[0]._offsets3d = (\n",
    "        eci_pos1[0, :, 0, i], eci_pos1[1, :, 0, i], eci_pos1[2, :, 0, i]\n",
    "        )\n",
    "    all_points[1]._offsets3d = (\n",
    "        eci_pos2[0, :, 0, i], eci_pos2[1, :, 0, i], eci_pos2[2, :, 0, i]\n",
    "        )\n",
    "    for title in all_titles:\n",
    "        my_time.mjd = mjds[i]\n",
    "        title.set_text('{:%y/%m/%d %H:%M:%S}'.format(my_time.datetime))\n",
    "    return (*all_points, *all_titles)\n",
    "\n",
    "\n",
    "def init():\n",
    "    return animate(0)\n",
    "\n",
    "# call the animator. blit=True means only re-draw the parts that have changed.\n",
    "anim = animation.FuncAnimation(\n",
    "    fig, animate, init_func=init, frames=eci_pos_x.shape[2], interval=20, blit=True\n",
    "    # fig, animate, init_func=init, frames=10, interval=20, blit=True\n",
    "    )\n",
    "\n",
    "# this takes a while!\n",
    "plt.close(anim._fig)\n",
    "# anim"
   ]
  },
  {
   "cell_type": "code",
   "execution_count": 35,
   "metadata": {
    "collapsed": true
   },
   "outputs": [],
   "source": [
    "FFwriter = animation.FFMpegWriter(\n",
    "    fps=30, bitrate=8000,\n",
    "    extra_args=['-vcodec', 'libx264'],\n",
    "    )\n",
    "anim.save('active_satellites_eci_4k.mp4', writer=FFwriter, dpi=300)"
   ]
  },
  {
   "cell_type": "code",
   "execution_count": 30,
   "metadata": {
    "collapsed": true
   },
   "outputs": [],
   "source": [
    "my_time = cysgp4.PyDateTime()\n",
    "my_time.mjd = mjds[0]\n",
    "vmin, vmax = np.log10(100), np.log10(50000)\n",
    "\n",
    "fig = plt.figure(figsize=(12.8, 7.2))\n",
    "ax1 = fig.add_axes((0.1, 0.5, 0.8, 0.35))\n",
    "ax2 = fig.add_axes((0.1, 0.1, 0.8, 0.35))\n",
    "cax = fig.add_axes((0.91, 0.2, 0.02, 0.5))\n",
    "ax2.set_xlabel('Azimuth [deg]')\n",
    "ax1.set_ylabel('Elevation [deg]')\n",
    "for ax in [ax1, ax2]:\n",
    "    ax.set_xlim((-180, 180))\n",
    "    ax.set_ylim((0, 90))\n",
    "    ax.set_xticks(range(-150, 180, 30))\n",
    "    ax.set_yticks(range(0, 91, 30))\n",
    "    ax.set_aspect('equal')\n",
    "    ax.grid()\n",
    "\n",
    "points1 = ax1.scatter(\n",
    "    topo_pos_az[:, 1, 0], topo_pos_el[:, 1, 0],\n",
    "    c=np.log10(topo_pos_dist[:, 1, 0]),\n",
    "    cmap='viridis', vmin=vmin, vmax=vmax,\n",
    "    )\n",
    "points2 = ax2.scatter(\n",
    "    topo_pos_az[:, 0, 0], topo_pos_el[:, 0, 0],\n",
    "    c=np.log10(topo_pos_dist[:, 0, 0]),\n",
    "    cmap='viridis', vmin=vmin, vmax=vmax,\n",
    "    )\n",
    "cbar = fig.colorbar(points1, cax=cax)\n",
    "cbar.set_label('Distance (km)')\n",
    "cbar.set_ticks([2, 3, 4])\n",
    "cbar.set_ticklabels([100, 1000, 10000])\n",
    "\n",
    "ax1.text(-170, 75, 'Parkes 64-m', fontsize=16)\n",
    "ax2.text(-170, 75, 'Effelsberg 100-m', fontsize=16)\n",
    "title = ax1.text(\n",
    "    174, 75, '{:%y/%m/%d %H:%M:%S}'.format(my_time.datetime),\n",
    "    fontsize=15, ha='right'\n",
    "    )\n",
    "\n",
    "def init():\n",
    "    points1.set_offsets(np.column_stack([topo_pos_az[:, 1, 0], topo_pos_el[:, 1, 0]]))\n",
    "    points1.set_array(np.log10(topo_pos_dist[:, 1, 0]))\n",
    "    points2.set_offsets(np.column_stack([topo_pos_az[:, 0, 0], topo_pos_el[:, 0, 0]]))\n",
    "    points2.set_array(np.log10(topo_pos_dist[:, 0, 0]))\n",
    "    my_time.mjd = mjds[0]\n",
    "    title.set_text('{:%y/%m/%d %H:%M:%S}'.format(my_time.datetime))\n",
    "    return points1, points2, title\n",
    "\n",
    "def animate(i):\n",
    "    points1.set_offsets(np.column_stack([topo_pos_az[:, 1, i], topo_pos_el[:, 1, i]]))\n",
    "    points1.set_array(np.log10(topo_pos_dist[:, 1, i]))\n",
    "    points2.set_offsets(np.column_stack([topo_pos_az[:, 0, i], topo_pos_el[:, 0, i]]))\n",
    "    points2.set_array(np.log10(topo_pos_dist[:, 0, i]))\n",
    "    my_time.mjd = mjds[i]\n",
    "    title.set_text('{:%y/%m/%d %H:%M:%S}'.format(my_time.datetime))\n",
    "    return points1, points2, title\n",
    "\n",
    "anim = animation.FuncAnimation(\n",
    "    fig, animate, init_func=init, frames=topo_pos_az.shape[2], interval=20, blit=True\n",
    "    # fig, animate, init_func=init, frames=10, interval=20, blit=True,\n",
    "    )\n",
    "\n",
    "# this takes a while!\n",
    "plt.close(anim._fig)\n",
    "# anim"
   ]
  },
  {
   "cell_type": "code",
   "execution_count": 33,
   "metadata": {},
   "outputs": [],
   "source": [
    "FFwriter = animation.FFMpegWriter(\n",
    "    fps=30, bitrate=8000,\n",
    "    extra_args=['-vcodec', 'libx264'],\n",
    "    )\n",
    "anim.save('active_satellites_horizon_4k.mp4', writer=FFwriter, dpi=300)"
   ]
  },
  {
   "cell_type": "code",
   "execution_count": 29,
   "metadata": {},
   "outputs": [
    {
     "data": {
      "text/plain": [
       "(12.8, 7.2)"
      ]
     },
     "execution_count": 29,
     "metadata": {},
     "output_type": "execute_result"
    }
   ],
   "source": [
    "3840 / 300, 2160 / 300"
   ]
  },
  {
   "cell_type": "code",
   "execution_count": null,
   "metadata": {
    "collapsed": true
   },
   "outputs": [],
   "source": [
    "plt.close()\n",
    "plt.plot(topo_pos_az[12, 0, :], topo_pos_el[12, 0, :], 'x')\n",
    "plt.show()"
   ]
  },
  {
   "cell_type": "code",
   "execution_count": null,
   "metadata": {
    "collapsed": true
   },
   "outputs": [],
   "source": [
    "my_sat = cysgp4.Satellite(my_tles[12], observer=observers[0])\n",
    "az, el = [], []\n",
    "for mjd in mjds:\n",
    "    my_sat.mjd = mjd\n",
    "    tp = my_sat.topo_pos()\n",
    "    az.append(tp.az)\n",
    "    el.append(tp.el)"
   ]
  },
  {
   "cell_type": "code",
   "execution_count": null,
   "metadata": {
    "collapsed": true
   },
   "outputs": [],
   "source": [
    "plt.close()\n",
    "plt.plot(az, el, 'x')\n",
    "plt.show()"
   ]
  },
  {
   "cell_type": "code",
   "execution_count": null,
   "metadata": {
    "collapsed": true
   },
   "outputs": [],
   "source": []
  }
 ],
 "metadata": {
  "kernelspec": {
   "display_name": "Python 3",
   "language": "python",
   "name": "python3"
  },
  "language_info": {
   "codemirror_mode": {
    "name": "ipython",
    "version": 3
   },
   "file_extension": ".py",
   "mimetype": "text/x-python",
   "name": "python",
   "nbconvert_exporter": "python",
   "pygments_lexer": "ipython3",
   "version": "3.6.7"
  }
 },
 "nbformat": 4,
 "nbformat_minor": 2
}
